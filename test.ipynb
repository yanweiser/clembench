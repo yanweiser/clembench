{
 "cells": [
  {
   "cell_type": "code",
   "execution_count": 38,
   "metadata": {},
   "outputs": [],
   "source": [
    "import re\n",
    "\n",
    "test_s = \"\"\"{\"description\": \"We are in a kitchen with a red fridge.\", \"action\": \"GO: north\"}\n",
    "We are now in this room. From here we can go: south, east. What should we do?\n",
    "{\"description\": \"We are in a living room with a couch and a tv.\", \"action\": \"GO: east\"}\n",
    "We are now in this room. From here we can go: south, east. What should we do?\n",
    "{\"description\": \"We are in a bathroom\", \"action\": \"DONE\"}\n",
    "We are now in this room. From here we can go: east. What should we do?\n",
    "{\"description\": \"We are in a bedroom with a bed and a nightstand.\", \"action\": \"GO: north\"}<end_of_utterance>\"\"\"\n",
    "\n",
    "RESPONSE_REGEX = re.compile('^{\"description\":\\s*\".+\",(\\s|\\n)*\"action\":\\s*\".+\"}')\n",
    "RESPONSE_REGEX = re.compile(\"^\\{\\s*\\\"description\\\":\\s*\\\"(.*?)\\\"\\s*,\\s*\\\"action\\\":\\s*\\\"(.*?)\\\"\\s*\\}\")\n",
    "RESPONSE_REGEX = r\"^\\{[\\s]*\\\"description\\\":\\s*\\\"([^\\{]*?)\\\"\\s*,\\s*\\\"action\\\":\\s*\\\"([^\\{]*?)\\\"[\\s]*\\}\"\n"
   ]
  },
  {
   "cell_type": "code",
   "execution_count": 40,
   "metadata": {},
   "outputs": [
    {
     "name": "stdout",
     "output_type": "stream",
     "text": [
      "{\"description\": \"We are in a kitchen with a red fridge.\", \"action\": \"GO: north\"}\n",
      "We are now in this room. From here we can go: south, east. What should we do?\n",
      "{\"description\": \"We are in a living room with a couch and a tv.\", \"action\": \"GO: east\"}\n",
      "We are now in this room. From here we can go: south, east. What should we do?\n",
      "{\"description\": \"We are in a bathroom\", \"action\": \"DONE\"}\n",
      "We are now in this room. From here we can go: east. What should we do?\n",
      "{\"description\": \"We are in a bedroom with a bed and a nightstand.\", \"action\": \"GO: north\"}<end_of_utterance>\n",
      "<re.Match object; span=(0, 80), match='{\"description\": \"We are in a kitchen with a red f>\n"
     ]
    }
   ],
   "source": [
    "hit = re.search(RESPONSE_REGEX, test_s)\n",
    "print(test_s)\n",
    "print(hit)"
   ]
  },
  {
   "cell_type": "code",
   "execution_count": 41,
   "metadata": {},
   "outputs": [
    {
     "name": "stdout",
     "output_type": "stream",
     "text": [
      "{\"description\": \"We are in a kitchen with a red fridge.\", \"action\": \"GO: north\"}\n"
     ]
    }
   ],
   "source": [
    "print(hit.group(0))"
   ]
  },
  {
   "cell_type": "code",
   "execution_count": 11,
   "metadata": {},
   "outputs": [
    {
     "name": "stdout",
     "output_type": "stream",
     "text": [
      "{'description': 'We are in a kitchen with a red fridge.', 'action': 'GO: north'}\n"
     ]
    }
   ],
   "source": [
    "import json\n",
    "\n",
    "loaded = json.loads(hit.group())\n",
    "print(loaded)"
   ]
  }
 ],
 "metadata": {
  "kernelspec": {
   "display_name": "Python 3",
   "language": "python",
   "name": "python3"
  },
  "language_info": {
   "codemirror_mode": {
    "name": "ipython",
    "version": 3
   },
   "file_extension": ".py",
   "mimetype": "text/x-python",
   "name": "python",
   "nbconvert_exporter": "python",
   "pygments_lexer": "ipython3",
   "version": "3.10.11"
  }
 },
 "nbformat": 4,
 "nbformat_minor": 2
}
